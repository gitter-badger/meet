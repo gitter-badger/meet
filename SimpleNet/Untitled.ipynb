{
 "cells": [
  {
   "cell_type": "code",
   "execution_count": 1,
   "metadata": {},
   "outputs": [],
   "source": [
    "from mxnet import gluon, init, nd, gpu, cpu, autograd\n",
    "from mxnet.gluon import nn"
   ]
  },
  {
   "cell_type": "code",
   "execution_count": 2,
   "metadata": {
    "scrolled": true
   },
   "outputs": [],
   "source": [
    "class SimpleNet(nn.HybridBlock):\n",
    "    def __init__(self, no4x1pooling=False, **kwargs):\n",
    "        super().__init__(**kwargs)\n",
    "        self.no4x1pooling = no4x1pooling\n",
    "        layer_size = [min(32 * 2 ** (i + 1), 512) for i in range(6)]\n",
    "\n",
    "        def convRelu(layer, i, bn=True):\n",
    "            layer.add(nn.Conv2D(\n",
    "                channels=layer_size[i], kernel_size=(3, 3), padding=(1, 1)))\n",
    "            if bn:\n",
    "                layer.add(nn.BatchNorm())\n",
    "            layer.add(nn.LeakyReLU(alpha=0.25))\n",
    "            return layer\n",
    "        with self.name_scope():\n",
    "            self.conv = nn.HybridSequential(prefix='')\n",
    "            with self.conv.name_scope():\n",
    "                self.conv = convRelu(self.conv, 0)  # bz x 64 x 32 x 280\n",
    "\n",
    "                self.max_pool = nn.HybridSequential(prefix='')\n",
    "                # bz x 128 x 16 x 140\n",
    "                self.max_pool.add(nn.MaxPool2D(\n",
    "                    pool_size=(2, 2), strides=(2, 2)))\n",
    "                self.avg_pool = nn.HybridSequential(prefix='')\n",
    "                # bz x 128 x 16 x 140\n",
    "                self.avg_pool.add(nn.AvgPool2D(\n",
    "                    pool_size=(2, 2), strides=(2, 2)))\n",
    "\n",
    "                self.net = nn.HybridSequential(prefix='')\n",
    "                self.net = convRelu(self.net, 1)\n",
    "                # bz x 256 x 8 x 70\n",
    "                self.net.add(nn.MaxPool2D(pool_size=(2, 2), strides=(2, 2)))\n",
    "                self.net = convRelu(self.net, 2, True)\n",
    "                self.net = convRelu(self.net, 3)\n",
    "                # bz x 512 x 4 x 35\n",
    "                self.net.add(nn.MaxPool2D(pool_size=(2, 2), strides=(2, 2)))\n",
    "                self.net = convRelu(self.net, 4, True)\n",
    "                self.net = convRelu(self.net, 5)\n",
    "                self.c = 512\n",
    "                if not self.no4x1pooling:\n",
    "                    self.cols_pool = nn.HybridSequential(prefix='')\n",
    "                    # bz x 512 x 1 x 35\n",
    "                    self.cols_pool.add(nn.AvgPool2D(pool_size=(4, 1)))\n",
    "                    self.cols_pool.add(nn.Dropout(rate=0.5))\n",
    "                else:\n",
    "                    self.c = self.c * 4\n",
    "                    self.no_cols_pool = nn.HybridSequential(prefix='')\n",
    "                    self.no_cols_pool.add(nn.Dropout(rate=0.5))\n",
    "\n",
    "    def hybrid_forward(self, F, x):\n",
    "        x = self.conv(x)\n",
    "        max = self.max_pool(x)\n",
    "        avg = self.avg_pool(x)\n",
    "        x = max - avg\n",
    "        x = self.net(x)\n",
    "        if not self.no4x1pooling:\n",
    "            x = self.cols_pool(x)\n",
    "        else:\n",
    "            x = self.no_cols_pool(x)\n",
    "            x = F.reshape(data=x, shape=(0, -3, 1, -2))\n",
    "        return x"
   ]
  },
  {
   "cell_type": "code",
   "execution_count": 9,
   "metadata": {},
   "outputs": [],
   "source": [
    "net = SimpleNet()"
   ]
  },
  {
   "cell_type": "code",
   "execution_count": 10,
   "metadata": {},
   "outputs": [],
   "source": [
    "x = nd.random.normal(shape=(1, 3, 32, 32))\n",
    "net.initialize()"
   ]
  },
  {
   "cell_type": "code",
   "execution_count": 11,
   "metadata": {
    "scrolled": true
   },
   "outputs": [
    {
     "name": "stdout",
     "output_type": "stream",
     "text": [
      "--------------------------------------------------------------------------------\n",
      "        Layer (type)                                Output Shape         Param #\n",
      "================================================================================\n",
      "               Input                              (1, 3, 32, 32)               0\n",
      "            Conv2D-1                             (1, 64, 32, 32)            1792\n",
      "         BatchNorm-2                             (1, 64, 32, 32)             256\n",
      "         LeakyReLU-3                             (1, 64, 32, 32)               0\n",
      "         MaxPool2D-4                             (1, 64, 16, 16)               0\n",
      "         AvgPool2D-5                             (1, 64, 16, 16)               0\n",
      "            Conv2D-6                            (1, 128, 16, 16)           73856\n",
      "         BatchNorm-7                            (1, 128, 16, 16)             512\n",
      "         LeakyReLU-8                            (1, 128, 16, 16)               0\n",
      "         MaxPool2D-9                              (1, 128, 8, 8)               0\n",
      "           Conv2D-10                              (1, 256, 8, 8)          295168\n",
      "        BatchNorm-11                              (1, 256, 8, 8)            1024\n",
      "        LeakyReLU-12                              (1, 256, 8, 8)               0\n",
      "           Conv2D-13                              (1, 512, 8, 8)         1180160\n",
      "        BatchNorm-14                              (1, 512, 8, 8)            2048\n",
      "        LeakyReLU-15                              (1, 512, 8, 8)               0\n",
      "        MaxPool2D-16                              (1, 512, 4, 4)               0\n",
      "           Conv2D-17                              (1, 512, 4, 4)         2359808\n",
      "        BatchNorm-18                              (1, 512, 4, 4)            2048\n",
      "        LeakyReLU-19                              (1, 512, 4, 4)               0\n",
      "           Conv2D-20                              (1, 512, 4, 4)         2359808\n",
      "        BatchNorm-21                              (1, 512, 4, 4)            2048\n",
      "        LeakyReLU-22                              (1, 512, 4, 4)               0\n",
      "        AvgPool2D-23                              (1, 512, 1, 4)               0\n",
      "          Dropout-24                              (1, 512, 1, 4)               0\n",
      "        SimpleNet-25                              (1, 512, 1, 4)               0\n",
      "================================================================================\n",
      "Parameters in forward computation graph, duplicate included\n",
      "   Total params: 6278528\n",
      "   Trainable params: 6274560\n",
      "   Non-trainable params: 3968\n",
      "Shared params in forward computation graph: 0\n",
      "Unique parameters in model: 6278528\n",
      "--------------------------------------------------------------------------------\n"
     ]
    }
   ],
   "source": [
    "net.summary(x)"
   ]
  },
  {
   "cell_type": "code",
   "execution_count": null,
   "metadata": {},
   "outputs": [],
   "source": []
  }
 ],
 "metadata": {
  "kernelspec": {
   "display_name": "gluoncv",
   "language": "python",
   "name": "gluoncv"
  },
  "language_info": {
   "codemirror_mode": {
    "name": "ipython",
    "version": 3
   },
   "file_extension": ".py",
   "mimetype": "text/x-python",
   "name": "python",
   "nbconvert_exporter": "python",
   "pygments_lexer": "ipython3",
   "version": "3.7.0"
  }
 },
 "nbformat": 4,
 "nbformat_minor": 2
}
