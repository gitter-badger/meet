{
 "cells": [
  {
   "cell_type": "markdown",
   "metadata": {},
   "source": [
    "# [gluoncv.data.batchify¶](https://gluon-cv.mxnet.io/api/data.batchify.html)\n",
    "\n",
    "## Stack\n",
    "\n",
    "Stack the input data samples to construct the batch. The N input samples must have the same shape/length and will be stacked to construct a batch："
   ]
  },
  {
   "cell_type": "code",
   "execution_count": 1,
   "metadata": {},
   "outputs": [],
   "source": [
    "from gluoncv.data import batchify"
   ]
  },
  {
   "cell_type": "code",
   "execution_count": 2,
   "metadata": {},
   "outputs": [
    {
     "data": {
      "text/plain": [
       "\n",
       "[[1. 2. 3. 4.]\n",
       " [4. 5. 6. 8.]\n",
       " [8. 9. 1. 2.]]\n",
       "<NDArray 3x4 @cpu_shared(0)>"
      ]
     },
     "execution_count": 2,
     "metadata": {},
     "output_type": "execute_result"
    }
   ],
   "source": [
    "# Stack multiple lists\n",
    "a = [1, 2, 3, 4]\n",
    "b = [4, 5, 6, 8]\n",
    "c = [8, 9, 1, 2]\n",
    "batchify.Stack()([a, b, c])"
   ]
  },
  {
   "cell_type": "code",
   "execution_count": 4,
   "metadata": {},
   "outputs": [
    {
     "data": {
      "text/plain": [
       "\n",
       "[[[1. 2. 3. 4.]\n",
       "  [5. 6. 7. 8.]]\n",
       "\n",
       " [[5. 6. 7. 8.]\n",
       "  [1. 2. 3. 4.]]]\n",
       "<NDArray 2x2x4 @cpu_shared(0)>"
      ]
     },
     "execution_count": 4,
     "metadata": {},
     "output_type": "execute_result"
    }
   ],
   "source": [
    "import numpy as np\n",
    "a = np.array([[1, 2, 3, 4], [5, 6, 7, 8]])\n",
    "b = np.array([[5, 6, 7, 8], [1, 2, 3, 4]])\n",
    "batchify.Stack()([a, b])"
   ]
  },
  {
   "cell_type": "code",
   "execution_count": 5,
   "metadata": {},
   "outputs": [
    {
     "data": {
      "text/plain": [
       "\n",
       "[[[1. 2. 3. 4.]\n",
       "  [5. 6. 7. 8.]]\n",
       "\n",
       " [[5. 6. 7. 8.]\n",
       "  [1. 2. 3. 4.]]]\n",
       "<NDArray 2x2x4 @cpu_shared(0)>"
      ]
     },
     "execution_count": 5,
     "metadata": {},
     "output_type": "execute_result"
    }
   ],
   "source": [
    "# Stack multiple NDArrays\n",
    "import mxnet as mx\n",
    "a = mx.nd.array([[1, 2, 3, 4], [5, 6, 7, 8]])\n",
    "b = mx.nd.array([[5, 6, 7, 8], [1, 2, 3, 4]])\n",
    "batchify.Stack()([a, b])"
   ]
  },
  {
   "cell_type": "markdown",
   "metadata": {},
   "source": [
    "## Pad\n",
    "\n",
    "`Pad(axis=0, pad_val=0, ret_length=False)`\n",
    "\n",
    "Pad the input ndarrays along the specific padding axis and stack them to get the output. Input of the function will be N samples. Each sample should contain a single element that can be 1) numpy.ndarray, 2) mxnet.nd.NDArray, 3) list of numbers. You can set the axis and pad_val to determine the padding axis and value. The arrays will be padded to the largest dimension at axis and then stacked to form the final output. In addition, the function will output the original dimensions at the axis if ret_length is turned on. :param axis: The axis to pad the arrays."
   ]
  },
  {
   "cell_type": "code",
   "execution_count": 6,
   "metadata": {},
   "outputs": [
    {
     "data": {
      "text/plain": [
       "\n",
       "[[1 2 3 4]\n",
       " [4 5 6 0]\n",
       " [8 2 0 0]]\n",
       "<NDArray 3x4 @cpu_shared(0)>"
      ]
     },
     "execution_count": 6,
     "metadata": {},
     "output_type": "execute_result"
    }
   ],
   "source": [
    "# Inputs are multiple lists\n",
    "a = [1, 2, 3, 4]\n",
    "b = [4, 5, 6]\n",
    "c = [8, 2]\n",
    "batchify.Pad()([a, b, c])"
   ]
  },
  {
   "cell_type": "code",
   "execution_count": 7,
   "metadata": {},
   "outputs": [
    {
     "data": {
      "text/plain": [
       "(\n",
       " [[1 2 3 4]\n",
       "  [4 5 6 0]\n",
       "  [8 2 0 0]]\n",
       " <NDArray 3x4 @cpu_shared(0)>, \n",
       " [4 3 2]\n",
       " <NDArray 3 @cpu_shared(0)>)"
      ]
     },
     "execution_count": 7,
     "metadata": {},
     "output_type": "execute_result"
    }
   ],
   "source": [
    "# Also output the lengths\n",
    "a = [1, 2, 3, 4]\n",
    "b = [4, 5, 6]\n",
    "c = [8, 2]\n",
    "batchify.Pad(ret_length=True)([a, b, c])"
   ]
  },
  {
   "cell_type": "code",
   "execution_count": 8,
   "metadata": {},
   "outputs": [
    {
     "data": {
      "text/plain": [
       "\n",
       "[[[ 1  2  3  4]\n",
       "  [ 5  6  7  8]]\n",
       "\n",
       " [[ 5  8 -1 -1]\n",
       "  [ 1  2 -1 -1]]]\n",
       "<NDArray 2x2x4 @cpu_shared(0)>"
      ]
     },
     "execution_count": 8,
     "metadata": {},
     "output_type": "execute_result"
    }
   ],
   "source": [
    "# Inputs are multiple ndarrays\n",
    "import numpy as np\n",
    "a = np.array([[1, 2, 3, 4], [5, 6, 7, 8]])\n",
    "b = np.array([[5, 8], [1, 2]])\n",
    "batchify.Pad(axis=1, pad_val=-1)([a, b])"
   ]
  },
  {
   "cell_type": "code",
   "execution_count": 9,
   "metadata": {},
   "outputs": [
    {
     "data": {
      "text/plain": [
       "\n",
       "[[[ 1.  2.  3.  4.]\n",
       "  [ 5.  6.  7.  8.]]\n",
       "\n",
       " [[ 5.  8. -1. -1.]\n",
       "  [ 1.  2. -1. -1.]]]\n",
       "<NDArray 2x2x4 @cpu_shared(0)>"
      ]
     },
     "execution_count": 9,
     "metadata": {},
     "output_type": "execute_result"
    }
   ],
   "source": [
    "# Inputs are multiple NDArrays\n",
    "import mxnet as mx\n",
    "a = mx.nd.array([[1, 2, 3, 4], [5, 6, 7, 8]])\n",
    "b = mx.nd.array([[5, 8], [1, 2]])\n",
    "batchify.Pad(axis=1, pad_val=-1)([a, b])"
   ]
  },
  {
   "cell_type": "markdown",
   "metadata": {},
   "source": [
    "## Append(expand=True, batch_axis=0)\n",
    "\n",
    "Loosely return list of the input data samples. There is no constraint of shape for any of the input samples, however, you will only be able to apply single batch operations since the output have different shapes."
   ]
  },
  {
   "cell_type": "code",
   "execution_count": 10,
   "metadata": {},
   "outputs": [
    {
     "data": {
      "text/plain": [
       "[\n",
       " [[1. 2. 3. 4.]]\n",
       " <NDArray 1x4 @cpu(0)>, \n",
       " [[4. 5. 6.]]\n",
       " <NDArray 1x3 @cpu(0)>, \n",
       " [[8. 2.]]\n",
       " <NDArray 1x2 @cpu(0)>]"
      ]
     },
     "execution_count": 10,
     "metadata": {},
     "output_type": "execute_result"
    }
   ],
   "source": [
    "a = [1, 2, 3, 4]\n",
    "b = [4, 5, 6]\n",
    "c = [8, 2]\n",
    "batchify.Append()([a, b, c])"
   ]
  },
  {
   "cell_type": "markdown",
   "metadata": {},
   "source": [
    "## Tuple(fn, *args)\n",
    "\n",
    "Wrap multiple batchify functions to form a function apply each input function on each input fields respectively. Each data sample should be a list or tuple containing multiple attributes. The i`th batchify function stored in `Tuple will be applied on the i`th attribute. For example, each data sample is (nd_data, label). You can wrap two batchify functions using `Wrap(DataBatchify, LabelBatchify) to batchify nd_data and label correspondingly. :param fn: The batchify functions to wrap. :type fn: list or tuple or callable :param *args: The additional batchify functions to wrap. :type *args: tuple of callable"
   ]
  },
  {
   "cell_type": "code",
   "execution_count": 11,
   "metadata": {},
   "outputs": [
    {
     "data": {
      "text/plain": [
       "(\n",
       " [[1 2 3 4]\n",
       "  [5 7 0 0]]\n",
       " <NDArray 2x4 @cpu_shared(0)>, \n",
       " [0. 1.]\n",
       " <NDArray 2 @cpu_shared(0)>)"
      ]
     },
     "execution_count": 11,
     "metadata": {},
     "output_type": "execute_result"
    }
   ],
   "source": [
    "a = ([1, 2, 3, 4], 0)\n",
    "b = ([5, 7], 1)\n",
    "c = ([1, 2, 3, 4, 5, 6, 7], 0)\n",
    "batchify.Tuple(batchify.Pad(), batchify.Stack())([a, b])"
   ]
  },
  {
   "cell_type": "code",
   "execution_count": 12,
   "metadata": {},
   "outputs": [
    {
     "data": {
      "text/plain": [
       "(\n",
       " [[1 2 3 4]\n",
       "  [5 7 0 0]]\n",
       " <NDArray 2x4 @cpu_shared(0)>, \n",
       " [0. 1.]\n",
       " <NDArray 2 @cpu_shared(0)>)"
      ]
     },
     "execution_count": 12,
     "metadata": {},
     "output_type": "execute_result"
    }
   ],
   "source": [
    "# Input can also be a list\n",
    "batchify.Tuple([batchify.Pad(), batchify.Stack()])([list(a), list(b)])"
   ]
  },
  {
   "cell_type": "code",
   "execution_count": 13,
   "metadata": {},
   "outputs": [
    {
     "data": {
      "text/plain": [
       "(\n",
       " [[1 2 3 4]\n",
       "  [1 2 0 0]\n",
       "  [1 0 0 0]]\n",
       " <NDArray 3x4 @cpu_shared(0)>, \n",
       " [[5 6 0 0 0]\n",
       "  [3 4 5 6 0]\n",
       "  [2 3 4 5 6]]\n",
       " <NDArray 3x5 @cpu_shared(0)>, \n",
       " [1. 0. 0.]\n",
       " <NDArray 3 @cpu_shared(0)>)"
      ]
     },
     "execution_count": 13,
     "metadata": {},
     "output_type": "execute_result"
    }
   ],
   "source": [
    "# Another example\n",
    "a = ([1, 2, 3, 4], [5, 6], 1)\n",
    "b = ([1, 2], [3, 4, 5, 6], 0)\n",
    "c = ([1], [2, 3, 4, 5, 6], 0)\n",
    "batchify.Tuple(batchify.Pad(), batchify.Pad(), batchify.Stack())([a, b, c])"
   ]
  },
  {
   "cell_type": "code",
   "execution_count": null,
   "metadata": {},
   "outputs": [],
   "source": []
  }
 ],
 "metadata": {
  "kernelspec": {
   "display_name": "gluoncv",
   "language": "python",
   "name": "gluoncv"
  },
  "language_info": {
   "codemirror_mode": {
    "name": "ipython",
    "version": 3
   },
   "file_extension": ".py",
   "mimetype": "text/x-python",
   "name": "python",
   "nbconvert_exporter": "python",
   "pygments_lexer": "ipython3",
   "version": "3.7.0"
  }
 },
 "nbformat": 4,
 "nbformat_minor": 2
}
